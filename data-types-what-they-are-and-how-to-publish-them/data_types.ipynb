{
 "cells": [
  {
   "cell_type": "markdown",
   "id": "39149415",
   "metadata": {},
   "source": [
    "# data-types-what-they-are-and-how-to-publish-them"
   ]
  },
  {
   "cell_type": "markdown",
   "id": "c20124ad",
   "metadata": {},
   "source": [
    "## Setup"
   ]
  },
  {
   "cell_type": "code",
   "execution_count": 48,
   "id": "9a745e00",
   "metadata": {},
   "outputs": [],
   "source": [
    "import pandas as pd\n",
    "from datetime import date\n",
    "import json\n",
    "from rdflib import Graph, Namespace, URIRef, Literal, FOAF, XSD"
   ]
  },
  {
   "cell_type": "markdown",
   "id": "cbf6bd66",
   "metadata": {},
   "source": [
    "## Create sample data"
   ]
  },
  {
   "cell_type": "code",
   "execution_count": 49,
   "id": "58d20e5a",
   "metadata": {},
   "outputs": [
    {
     "data": {
      "text/html": [
       "<div>\n",
       "<style scoped>\n",
       "    .dataframe tbody tr th:only-of-type {\n",
       "        vertical-align: middle;\n",
       "    }\n",
       "\n",
       "    .dataframe tbody tr th {\n",
       "        vertical-align: top;\n",
       "    }\n",
       "\n",
       "    .dataframe thead th {\n",
       "        text-align: right;\n",
       "    }\n",
       "</style>\n",
       "<table border=\"1\" class=\"dataframe\">\n",
       "  <thead>\n",
       "    <tr style=\"text-align: right;\">\n",
       "      <th></th>\n",
       "      <th>name</th>\n",
       "      <th>age</th>\n",
       "      <th>date_of_birth</th>\n",
       "      <th>homepage</th>\n",
       "    </tr>\n",
       "    <tr>\n",
       "      <th>id</th>\n",
       "      <th></th>\n",
       "      <th></th>\n",
       "      <th></th>\n",
       "      <th></th>\n",
       "    </tr>\n",
       "  </thead>\n",
       "  <tbody>\n",
       "    <tr>\n",
       "      <th>0</th>\n",
       "      <td>Jane</td>\n",
       "      <td>40</td>\n",
       "      <td>1982-01-01</td>\n",
       "      <td>www.example.com/jane</td>\n",
       "    </tr>\n",
       "    <tr>\n",
       "      <th>1</th>\n",
       "      <td>John</td>\n",
       "      <td>41</td>\n",
       "      <td>1981-01-01</td>\n",
       "      <td>www.example.com/john</td>\n",
       "    </tr>\n",
       "  </tbody>\n",
       "</table>\n",
       "</div>"
      ],
      "text/plain": [
       "    name  age date_of_birth              homepage\n",
       "id                                               \n",
       "0   Jane   40    1982-01-01  www.example.com/jane\n",
       "1   John   41    1981-01-01  www.example.com/john"
      ]
     },
     "execution_count": 49,
     "metadata": {},
     "output_type": "execute_result"
    }
   ],
   "source": [
    "df=pd.DataFrame(data=[{'name':'Jane','age':40,'date_of_birth':date(1982,1,1),'homepage':'www.example.com/jane'},\n",
    "                      {'name':'John','age':41,'date_of_birth':date(1981,1,1),'homepage':'www.example.com/john'}\n",
    "                     ])\n",
    "df.index.name='id'\n",
    "df"
   ]
  },
  {
   "cell_type": "markdown",
   "id": "d72e827a",
   "metadata": {},
   "source": [
    "## Create markdown version (for blog post)"
   ]
  },
  {
   "cell_type": "code",
   "execution_count": 50,
   "id": "9d331c5a",
   "metadata": {},
   "outputs": [
    {
     "name": "stdout",
     "output_type": "stream",
     "text": [
      "|  id  |  name  |  age  |  date_of_birth  |       homepage       |\n",
      "|:----:|:------:|:-----:|:---------------:|:--------------------:|\n",
      "|  0   |  Jane  |  40   |   1982-01-01    | www.example.com/jane |\n",
      "|  1   |  John  |  41   |   1981-01-01    | www.example.com/john |\n"
     ]
    }
   ],
   "source": [
    "print(df.to_markdown(colalign=[\"center\"]*5))"
   ]
  },
  {
   "cell_type": "markdown",
   "id": "ece4724a",
   "metadata": {},
   "source": [
    "## Create csv version"
   ]
  },
  {
   "cell_type": "code",
   "execution_count": 51,
   "id": "75f002fc",
   "metadata": {},
   "outputs": [
    {
     "name": "stdout",
     "output_type": "stream",
     "text": [
      "id,name,age,date_of_birth,homepage\n",
      " 0,Jane,40,1982-01-01,www.example.com/jane\n",
      " 1,John,41,1981-01-01,www.example.com/john\n",
      " "
     ]
    }
   ],
   "source": [
    "df.to_csv('data.csv')\n",
    "for line in open('data.csv'): print(line, end=' ')"
   ]
  },
  {
   "cell_type": "markdown",
   "id": "eefae97e",
   "metadata": {},
   "source": [
    "## Create json version"
   ]
  },
  {
   "cell_type": "code",
   "execution_count": 52,
   "id": "4c0c6a60",
   "metadata": {},
   "outputs": [
    {
     "name": "stdout",
     "output_type": "stream",
     "text": [
      "{\n",
      "     \"0\": {\n",
      "         \"age\": 40,\n",
      "         \"date_of_birth\": \"1982-01-01\",\n",
      "         \"homepage\": \"www.example.com/jane\",\n",
      "         \"name\": \"Jane\"\n",
      "     },\n",
      "     \"1\": {\n",
      "         \"age\": 41,\n",
      "         \"date_of_birth\": \"1981-01-01\",\n",
      "         \"homepage\": \"www.example.com/john\",\n",
      "         \"name\": \"John\"\n",
      "     }\n",
      " } "
     ]
    }
   ],
   "source": [
    "with open('data.json', 'w') as f:\n",
    "    json.dump(df.T.to_dict(),\n",
    "              f, \n",
    "              indent=4, \n",
    "              sort_keys=True, \n",
    "              default=str  # used to convert the date to a string (otherwise an error is raised)\n",
    "             )\n",
    "for line in open('data.json'): print(line, end=' ')"
   ]
  },
  {
   "cell_type": "markdown",
   "id": "b5bdd67c",
   "metadata": {},
   "source": [
    "## Create xml version"
   ]
  },
  {
   "cell_type": "code",
   "execution_count": 53,
   "id": "f90f4cd9",
   "metadata": {},
   "outputs": [
    {
     "name": "stdout",
     "output_type": "stream",
     "text": [
      "<?xml version='1.0' encoding='utf-8'?>\n",
      " <data>\n",
      "   <row>\n",
      "     <id>0</id>\n",
      "     <name>Jane</name>\n",
      "     <age>40</age>\n",
      "     <date_of_birth>1982-01-01</date_of_birth>\n",
      "     <homepage>www.example.com/jane</homepage>\n",
      "   </row>\n",
      "   <row>\n",
      "     <id>1</id>\n",
      "     <name>John</name>\n",
      "     <age>41</age>\n",
      "     <date_of_birth>1981-01-01</date_of_birth>\n",
      "     <homepage>www.example.com/john</homepage>\n",
      "   </row>\n",
      " </data> "
     ]
    }
   ],
   "source": [
    "with open('data.xml','w') as f:\n",
    "    f.write(df.to_xml())\n",
    "for line in open('data.xml'): print(line, end=' ')"
   ]
  },
  {
   "cell_type": "markdown",
   "id": "0e01703f",
   "metadata": {},
   "source": [
    "## Create rdf version"
   ]
  },
  {
   "cell_type": "code",
   "execution_count": 56,
   "id": "723b124c",
   "metadata": {},
   "outputs": [
    {
     "name": "stdout",
     "output_type": "stream",
     "text": [
      "@prefix dbo: <http://dbpedia.org/ontology/> .\n",
      " @prefix ex: <http://www.example.com/> .\n",
      " @prefix foaf: <http://xmlns.com/foaf/0.1/> .\n",
      " @prefix xsd: <http://www.w3.org/2001/XMLSchema#> .\n",
      " \n",
      " ex:0 dbo:birthDate \"1982-01-01\"^^xsd:date ;\n",
      "     foaf:age 40 ;\n",
      "     foaf:homepage \"www.example.com/jane\"^^xsd:anyURI ;\n",
      "     foaf:name \"Jane\" .\n",
      " \n",
      " ex:1 dbo:birthDate \"1981-01-01\"^^xsd:date ;\n",
      "     foaf:age 41 ;\n",
      "     foaf:homepage \"www.example.com/john\"^^xsd:anyURI ;\n",
      "     foaf:name \"John\" .\n",
      " \n",
      " "
     ]
    }
   ],
   "source": [
    "g=Graph()\n",
    "EX=Namespace('http://www.example.com/')\n",
    "DBO=Namespace('http://dbpedia.org/ontology/')\n",
    "g.bind('ex',EX)\n",
    "g.bind('dbo',DBO)\n",
    "for index,row in df.iterrows():\n",
    "    resource=getattr(EX,str(index))\n",
    "    g.add((resource,FOAF.name,Literal(row['name'])))\n",
    "    g.add((resource,FOAF.age,Literal(row['age'])))\n",
    "    g.add((resource,DBO.birthDate,Literal(row['date_of_birth'])))\n",
    "    g.add((resource,FOAF.homepage,Literal(row['homepage'],datatype=XSD.anyURI)))\n",
    "g.serialize('data.ttl',format='turtle')\n",
    "for line in open('data.ttl'): print(line, end=' ')"
   ]
  }
 ],
 "metadata": {
  "kernelspec": {
   "display_name": "Python 3 (ipykernel)",
   "language": "python",
   "name": "python3"
  },
  "language_info": {
   "codemirror_mode": {
    "name": "ipython",
    "version": 3
   },
   "file_extension": ".py",
   "mimetype": "text/x-python",
   "name": "python",
   "nbconvert_exporter": "python",
   "pygments_lexer": "ipython3",
   "version": "3.9.7"
  }
 },
 "nbformat": 4,
 "nbformat_minor": 5
}
