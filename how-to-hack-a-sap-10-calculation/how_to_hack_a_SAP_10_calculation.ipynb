{
 "cells": [
  {
   "cell_type": "markdown",
   "id": "f9d36ade",
   "metadata": {},
   "source": [
    "# how_to_hack_a_SAP_10_calculation\n",
    "\n",
    "This Notebook shows how to replace default values and intermediate calculated values in a SAP 10 calculation with our own values.\n",
    "\n",
    "This uses the SAP 10 API service available here: https://netzeroapis.com/redoc#tag/calc-APIs/operation/sap10_calc_sap10_post"
   ]
  },
  {
   "cell_type": "code",
   "execution_count": 1,
   "id": "32ed9d52",
   "metadata": {},
   "outputs": [
    {
     "name": "stdout",
     "output_type": "stream",
     "text": [
      "Monthly HTC values (value_39_m, W/K): ['239.6', '239.6', '239.5', '239.2', '239.1', '238.9', '238.9', '238.8', '239.0', '239.1', '239.2', '239.4']\n",
      "SAP rating (value 258):  73\n",
      "SAP band:  C\n"
     ]
    }
   ],
   "source": [
    "# initial run \n",
    "import requests\n",
    "import json\n",
    "with open('detached_house.xml', 'rb') as input_file:\n",
    "    response = requests.post(\n",
    "        url = 'https://netzeroapis.com/calc/sap10',\n",
    "        files = {'file': input_file},\n",
    "        headers = {'Authorization': None}\n",
    "        )\n",
    "if response.status_code != 200: raise Exception(reposonse.text)\n",
    "result = response.json()\n",
    "if result['sap_calculation_success'] == False: raise Exception(result['sap_calculation_error_traceback'])\n",
    "output_dict = result['sap_calculation_output_dict']\n",
    "print('Monthly HTC values (value_39_m, W/K):', ['{:.1f}'.format(output_dict[f'value_39_{m}']) for m in range(1,13)])\n",
    "print('SAP rating (value 258): ', output_dict['value_258'])\n",
    "print('SAP band: ', output_dict['sap_band'])"
   ]
  },
  {
   "cell_type": "code",
   "execution_count": 2,
   "id": "d88217c5",
   "metadata": {},
   "outputs": [
    {
     "name": "stdout",
     "output_type": "stream",
     "text": [
      "Monthly HTC values (value_39_m, W/K): ['100.0', '100.0', '100.0', '100.0', '100.0', '100.0', '100.0', '100.0', '100.0', '100.0', '100.0', '100.0']\n",
      "SAP rating (value 258):  82\n",
      "SAP band:  B\n"
     ]
    }
   ],
   "source": [
    "# run with overwriting of HTC values\n",
    "with open('detached_house.xml', 'rb') as input_file:\n",
    "    response = requests.post(\n",
    "        url = 'https://netzeroapis.com/calc/sap10',\n",
    "        files = {\n",
    "            'file': input_file,\n",
    "            'extra': json.dumps({\n",
    "                'overwrite': \n",
    "                    {\n",
    "                        'value_39_1': 100,\n",
    "                        'value_39_2': 100,\n",
    "                        'value_39_3': 100,\n",
    "                        'value_39_4': 100,\n",
    "                        'value_39_5': 100,\n",
    "                        'value_39_6': 100,\n",
    "                        'value_39_7': 100,\n",
    "                        'value_39_8': 100,\n",
    "                        'value_39_9': 100,\n",
    "                        'value_39_10': 100,\n",
    "                        'value_39_11': 100,\n",
    "                        'value_39_12': 100,\n",
    "                    }\n",
    "                }),\n",
    "            },\n",
    "        headers = {'Authorization': None},\n",
    "        )\n",
    "if response.status_code != 200: raise Exception(response.text)\n",
    "result = response.json()\n",
    "if result['sap_calculation_success'] == False: \n",
    "    raise Exception(result['sap_calculation_error_traceback'])\n",
    "output_dict = result['sap_calculation_output_dict']\n",
    "print('Monthly HTC values (value_39_m, W/K):', ['{:.1f}'.format(output_dict[f'value_39_{m}']) for m in range(1,13)])\n",
    "print('SAP rating (value 258): ', output_dict['value_258'])\n",
    "print('SAP band: ', output_dict['sap_band'])"
   ]
  },
  {
   "cell_type": "code",
   "execution_count": null,
   "id": "534d0fdb",
   "metadata": {},
   "outputs": [],
   "source": []
  }
 ],
 "metadata": {
  "kernelspec": {
   "display_name": "Python 3 (ipykernel)",
   "language": "python",
   "name": "python3"
  },
  "language_info": {
   "codemirror_mode": {
    "name": "ipython",
    "version": 3
   },
   "file_extension": ".py",
   "mimetype": "text/x-python",
   "name": "python",
   "nbconvert_exporter": "python",
   "pygments_lexer": "ipython3",
   "version": "3.9.18"
  }
 },
 "nbformat": 4,
 "nbformat_minor": 5
}
